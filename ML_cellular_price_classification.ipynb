{
  "nbformat": 4,
  "nbformat_minor": 0,
  "metadata": {
    "colab": {
      "provenance": []
    },
    "kernelspec": {
      "name": "python3",
      "display_name": "Python 3"
    },
    "language_info": {
      "name": "python"
    }
  },
  "cells": [
    {
      "cell_type": "markdown",
      "source": [
        "Import Library"
      ],
      "metadata": {
        "id": "1BMFbSyOuP9C"
      }
    },
    {
      "cell_type": "code",
      "execution_count": null,
      "metadata": {
        "id": "8cHwePs5W2xM"
      },
      "outputs": [],
      "source": [
        "import numpy as np\n",
        "import pandas as pd\n",
        "import matplotlib.pyplot as plt\n",
        "from sklearn import preprocessing\n",
        "from sklearn.preprocessing import StandardScaler, LabelEncoder\n",
        "from sklearn.model_selection import train_test_split\n",
        "from sklearn.metrics import precision_score, recall_score, confusion_matrix, classification_report, accuracy_score, f1_score"
      ]
    },
    {
      "cell_type": "markdown",
      "source": [
        "**1. MENAMPILKAN DATA**"
      ],
      "metadata": {
        "id": "obKHxVqkhzXp"
      }
    },
    {
      "cell_type": "code",
      "source": [
        "csv_path = \"/content/train.csv\"\n",
        "df = pd.read_csv(csv_path)\n",
        "df.head()"
      ],
      "metadata": {
        "colab": {
          "base_uri": "https://localhost:8080/",
          "height": 280
        },
        "id": "bNeUc7iGX29j",
        "outputId": "f3fe7f50-a84a-42ce-e88d-122294debffa"
      },
      "execution_count": null,
      "outputs": [
        {
          "output_type": "execute_result",
          "data": {
            "text/plain": [
              "   battery_power  blue  clock_speed  dual_sim  fc  four_g  int_memory  m_dep  \\\n",
              "0            842     0          2.2         0   1       0           7    0.6   \n",
              "1           1021     1          0.5         1   0       1          53    0.7   \n",
              "2            563     1          0.5         1   2       1          41    0.9   \n",
              "3            615     1          2.5         0   0       0          10    0.8   \n",
              "4           1821     1          1.2         0  13       1          44    0.6   \n",
              "\n",
              "   mobile_wt  n_cores  ...  px_height  px_width   ram  sc_h  sc_w  talk_time  \\\n",
              "0        188        2  ...         20       756  2549     9     7         19   \n",
              "1        136        3  ...        905      1988  2631    17     3          7   \n",
              "2        145        5  ...       1263      1716  2603    11     2          9   \n",
              "3        131        6  ...       1216      1786  2769    16     8         11   \n",
              "4        141        2  ...       1208      1212  1411     8     2         15   \n",
              "\n",
              "   three_g  touch_screen  wifi  price_range  \n",
              "0        0             0     1            1  \n",
              "1        1             1     0            2  \n",
              "2        1             1     0            2  \n",
              "3        1             0     0            2  \n",
              "4        1             1     0            1  \n",
              "\n",
              "[5 rows x 21 columns]"
            ],
            "text/html": [
              "\n",
              "  <div id=\"df-333b4224-f015-43a5-9fdf-2c005284c99a\">\n",
              "    <div class=\"colab-df-container\">\n",
              "      <div>\n",
              "<style scoped>\n",
              "    .dataframe tbody tr th:only-of-type {\n",
              "        vertical-align: middle;\n",
              "    }\n",
              "\n",
              "    .dataframe tbody tr th {\n",
              "        vertical-align: top;\n",
              "    }\n",
              "\n",
              "    .dataframe thead th {\n",
              "        text-align: right;\n",
              "    }\n",
              "</style>\n",
              "<table border=\"1\" class=\"dataframe\">\n",
              "  <thead>\n",
              "    <tr style=\"text-align: right;\">\n",
              "      <th></th>\n",
              "      <th>battery_power</th>\n",
              "      <th>blue</th>\n",
              "      <th>clock_speed</th>\n",
              "      <th>dual_sim</th>\n",
              "      <th>fc</th>\n",
              "      <th>four_g</th>\n",
              "      <th>int_memory</th>\n",
              "      <th>m_dep</th>\n",
              "      <th>mobile_wt</th>\n",
              "      <th>n_cores</th>\n",
              "      <th>...</th>\n",
              "      <th>px_height</th>\n",
              "      <th>px_width</th>\n",
              "      <th>ram</th>\n",
              "      <th>sc_h</th>\n",
              "      <th>sc_w</th>\n",
              "      <th>talk_time</th>\n",
              "      <th>three_g</th>\n",
              "      <th>touch_screen</th>\n",
              "      <th>wifi</th>\n",
              "      <th>price_range</th>\n",
              "    </tr>\n",
              "  </thead>\n",
              "  <tbody>\n",
              "    <tr>\n",
              "      <th>0</th>\n",
              "      <td>842</td>\n",
              "      <td>0</td>\n",
              "      <td>2.2</td>\n",
              "      <td>0</td>\n",
              "      <td>1</td>\n",
              "      <td>0</td>\n",
              "      <td>7</td>\n",
              "      <td>0.6</td>\n",
              "      <td>188</td>\n",
              "      <td>2</td>\n",
              "      <td>...</td>\n",
              "      <td>20</td>\n",
              "      <td>756</td>\n",
              "      <td>2549</td>\n",
              "      <td>9</td>\n",
              "      <td>7</td>\n",
              "      <td>19</td>\n",
              "      <td>0</td>\n",
              "      <td>0</td>\n",
              "      <td>1</td>\n",
              "      <td>1</td>\n",
              "    </tr>\n",
              "    <tr>\n",
              "      <th>1</th>\n",
              "      <td>1021</td>\n",
              "      <td>1</td>\n",
              "      <td>0.5</td>\n",
              "      <td>1</td>\n",
              "      <td>0</td>\n",
              "      <td>1</td>\n",
              "      <td>53</td>\n",
              "      <td>0.7</td>\n",
              "      <td>136</td>\n",
              "      <td>3</td>\n",
              "      <td>...</td>\n",
              "      <td>905</td>\n",
              "      <td>1988</td>\n",
              "      <td>2631</td>\n",
              "      <td>17</td>\n",
              "      <td>3</td>\n",
              "      <td>7</td>\n",
              "      <td>1</td>\n",
              "      <td>1</td>\n",
              "      <td>0</td>\n",
              "      <td>2</td>\n",
              "    </tr>\n",
              "    <tr>\n",
              "      <th>2</th>\n",
              "      <td>563</td>\n",
              "      <td>1</td>\n",
              "      <td>0.5</td>\n",
              "      <td>1</td>\n",
              "      <td>2</td>\n",
              "      <td>1</td>\n",
              "      <td>41</td>\n",
              "      <td>0.9</td>\n",
              "      <td>145</td>\n",
              "      <td>5</td>\n",
              "      <td>...</td>\n",
              "      <td>1263</td>\n",
              "      <td>1716</td>\n",
              "      <td>2603</td>\n",
              "      <td>11</td>\n",
              "      <td>2</td>\n",
              "      <td>9</td>\n",
              "      <td>1</td>\n",
              "      <td>1</td>\n",
              "      <td>0</td>\n",
              "      <td>2</td>\n",
              "    </tr>\n",
              "    <tr>\n",
              "      <th>3</th>\n",
              "      <td>615</td>\n",
              "      <td>1</td>\n",
              "      <td>2.5</td>\n",
              "      <td>0</td>\n",
              "      <td>0</td>\n",
              "      <td>0</td>\n",
              "      <td>10</td>\n",
              "      <td>0.8</td>\n",
              "      <td>131</td>\n",
              "      <td>6</td>\n",
              "      <td>...</td>\n",
              "      <td>1216</td>\n",
              "      <td>1786</td>\n",
              "      <td>2769</td>\n",
              "      <td>16</td>\n",
              "      <td>8</td>\n",
              "      <td>11</td>\n",
              "      <td>1</td>\n",
              "      <td>0</td>\n",
              "      <td>0</td>\n",
              "      <td>2</td>\n",
              "    </tr>\n",
              "    <tr>\n",
              "      <th>4</th>\n",
              "      <td>1821</td>\n",
              "      <td>1</td>\n",
              "      <td>1.2</td>\n",
              "      <td>0</td>\n",
              "      <td>13</td>\n",
              "      <td>1</td>\n",
              "      <td>44</td>\n",
              "      <td>0.6</td>\n",
              "      <td>141</td>\n",
              "      <td>2</td>\n",
              "      <td>...</td>\n",
              "      <td>1208</td>\n",
              "      <td>1212</td>\n",
              "      <td>1411</td>\n",
              "      <td>8</td>\n",
              "      <td>2</td>\n",
              "      <td>15</td>\n",
              "      <td>1</td>\n",
              "      <td>1</td>\n",
              "      <td>0</td>\n",
              "      <td>1</td>\n",
              "    </tr>\n",
              "  </tbody>\n",
              "</table>\n",
              "<p>5 rows × 21 columns</p>\n",
              "</div>\n",
              "      <button class=\"colab-df-convert\" onclick=\"convertToInteractive('df-333b4224-f015-43a5-9fdf-2c005284c99a')\"\n",
              "              title=\"Convert this dataframe to an interactive table.\"\n",
              "              style=\"display:none;\">\n",
              "        \n",
              "  <svg xmlns=\"http://www.w3.org/2000/svg\" height=\"24px\"viewBox=\"0 0 24 24\"\n",
              "       width=\"24px\">\n",
              "    <path d=\"M0 0h24v24H0V0z\" fill=\"none\"/>\n",
              "    <path d=\"M18.56 5.44l.94 2.06.94-2.06 2.06-.94-2.06-.94-.94-2.06-.94 2.06-2.06.94zm-11 1L8.5 8.5l.94-2.06 2.06-.94-2.06-.94L8.5 2.5l-.94 2.06-2.06.94zm10 10l.94 2.06.94-2.06 2.06-.94-2.06-.94-.94-2.06-.94 2.06-2.06.94z\"/><path d=\"M17.41 7.96l-1.37-1.37c-.4-.4-.92-.59-1.43-.59-.52 0-1.04.2-1.43.59L10.3 9.45l-7.72 7.72c-.78.78-.78 2.05 0 2.83L4 21.41c.39.39.9.59 1.41.59.51 0 1.02-.2 1.41-.59l7.78-7.78 2.81-2.81c.8-.78.8-2.07 0-2.86zM5.41 20L4 18.59l7.72-7.72 1.47 1.35L5.41 20z\"/>\n",
              "  </svg>\n",
              "      </button>\n",
              "      \n",
              "  <style>\n",
              "    .colab-df-container {\n",
              "      display:flex;\n",
              "      flex-wrap:wrap;\n",
              "      gap: 12px;\n",
              "    }\n",
              "\n",
              "    .colab-df-convert {\n",
              "      background-color: #E8F0FE;\n",
              "      border: none;\n",
              "      border-radius: 50%;\n",
              "      cursor: pointer;\n",
              "      display: none;\n",
              "      fill: #1967D2;\n",
              "      height: 32px;\n",
              "      padding: 0 0 0 0;\n",
              "      width: 32px;\n",
              "    }\n",
              "\n",
              "    .colab-df-convert:hover {\n",
              "      background-color: #E2EBFA;\n",
              "      box-shadow: 0px 1px 2px rgba(60, 64, 67, 0.3), 0px 1px 3px 1px rgba(60, 64, 67, 0.15);\n",
              "      fill: #174EA6;\n",
              "    }\n",
              "\n",
              "    [theme=dark] .colab-df-convert {\n",
              "      background-color: #3B4455;\n",
              "      fill: #D2E3FC;\n",
              "    }\n",
              "\n",
              "    [theme=dark] .colab-df-convert:hover {\n",
              "      background-color: #434B5C;\n",
              "      box-shadow: 0px 1px 3px 1px rgba(0, 0, 0, 0.15);\n",
              "      filter: drop-shadow(0px 1px 2px rgba(0, 0, 0, 0.3));\n",
              "      fill: #FFFFFF;\n",
              "    }\n",
              "  </style>\n",
              "\n",
              "      <script>\n",
              "        const buttonEl =\n",
              "          document.querySelector('#df-333b4224-f015-43a5-9fdf-2c005284c99a button.colab-df-convert');\n",
              "        buttonEl.style.display =\n",
              "          google.colab.kernel.accessAllowed ? 'block' : 'none';\n",
              "\n",
              "        async function convertToInteractive(key) {\n",
              "          const element = document.querySelector('#df-333b4224-f015-43a5-9fdf-2c005284c99a');\n",
              "          const dataTable =\n",
              "            await google.colab.kernel.invokeFunction('convertToInteractive',\n",
              "                                                     [key], {});\n",
              "          if (!dataTable) return;\n",
              "\n",
              "          const docLinkHtml = 'Like what you see? Visit the ' +\n",
              "            '<a target=\"_blank\" href=https://colab.research.google.com/notebooks/data_table.ipynb>data table notebook</a>'\n",
              "            + ' to learn more about interactive tables.';\n",
              "          element.innerHTML = '';\n",
              "          dataTable['output_type'] = 'display_data';\n",
              "          await google.colab.output.renderOutput(dataTable, element);\n",
              "          const docLink = document.createElement('div');\n",
              "          docLink.innerHTML = docLinkHtml;\n",
              "          element.appendChild(docLink);\n",
              "        }\n",
              "      </script>\n",
              "    </div>\n",
              "  </div>\n",
              "  "
            ]
          },
          "metadata": {},
          "execution_count": 2
        }
      ]
    },
    {
      "cell_type": "code",
      "source": [
        "df.shape"
      ],
      "metadata": {
        "colab": {
          "base_uri": "https://localhost:8080/"
        },
        "id": "O0s16aXgILkx",
        "outputId": "fbd67f68-09dd-42cc-cee6-7b3bf7a222b7"
      },
      "execution_count": null,
      "outputs": [
        {
          "output_type": "execute_result",
          "data": {
            "text/plain": [
              "(2000, 21)"
            ]
          },
          "metadata": {},
          "execution_count": 3
        }
      ]
    },
    {
      "cell_type": "code",
      "source": [
        "df.info()"
      ],
      "metadata": {
        "colab": {
          "base_uri": "https://localhost:8080/"
        },
        "id": "TQgraxukIPsx",
        "outputId": "42b932f6-7cf9-4052-c21f-2598535a9bb9"
      },
      "execution_count": null,
      "outputs": [
        {
          "output_type": "stream",
          "name": "stdout",
          "text": [
            "<class 'pandas.core.frame.DataFrame'>\n",
            "RangeIndex: 2000 entries, 0 to 1999\n",
            "Data columns (total 21 columns):\n",
            " #   Column         Non-Null Count  Dtype  \n",
            "---  ------         --------------  -----  \n",
            " 0   battery_power  2000 non-null   int64  \n",
            " 1   blue           2000 non-null   int64  \n",
            " 2   clock_speed    2000 non-null   float64\n",
            " 3   dual_sim       2000 non-null   int64  \n",
            " 4   fc             2000 non-null   int64  \n",
            " 5   four_g         2000 non-null   int64  \n",
            " 6   int_memory     2000 non-null   int64  \n",
            " 7   m_dep          2000 non-null   float64\n",
            " 8   mobile_wt      2000 non-null   int64  \n",
            " 9   n_cores        2000 non-null   int64  \n",
            " 10  pc             2000 non-null   int64  \n",
            " 11  px_height      2000 non-null   int64  \n",
            " 12  px_width       2000 non-null   int64  \n",
            " 13  ram            2000 non-null   int64  \n",
            " 14  sc_h           2000 non-null   int64  \n",
            " 15  sc_w           2000 non-null   int64  \n",
            " 16  talk_time      2000 non-null   int64  \n",
            " 17  three_g        2000 non-null   int64  \n",
            " 18  touch_screen   2000 non-null   int64  \n",
            " 19  wifi           2000 non-null   int64  \n",
            " 20  price_range    2000 non-null   int64  \n",
            "dtypes: float64(2), int64(19)\n",
            "memory usage: 328.2 KB\n"
          ]
        }
      ]
    },
    {
      "cell_type": "code",
      "source": [
        "important_cols = [\"ram\", \"blue\", \"dual_sim\",\"four_g\",\"three_g\",\"touch_screen\",\"wifi\",\"n_cores\", \"price_range\"]\n",
        "\n",
        "df = df[important_cols]"
      ],
      "metadata": {
        "id": "2UI09oidIw5r"
      },
      "execution_count": null,
      "outputs": []
    },
    {
      "cell_type": "code",
      "source": [
        "df"
      ],
      "metadata": {
        "colab": {
          "base_uri": "https://localhost:8080/",
          "height": 424
        },
        "id": "RsKOkJ8XI1yq",
        "outputId": "1f1b2468-fcbb-4a56-8328-484fcebf279d"
      },
      "execution_count": null,
      "outputs": [
        {
          "output_type": "execute_result",
          "data": {
            "text/plain": [
              "       ram  blue  dual_sim  four_g  three_g  touch_screen  wifi  n_cores  \\\n",
              "0     2549     0         0       0        0             0     1        2   \n",
              "1     2631     1         1       1        1             1     0        3   \n",
              "2     2603     1         1       1        1             1     0        5   \n",
              "3     2769     1         0       0        1             0     0        6   \n",
              "4     1411     1         0       1        1             1     0        2   \n",
              "...    ...   ...       ...     ...      ...           ...   ...      ...   \n",
              "1995   668     1         1       1        1             1     0        6   \n",
              "1996  2032     1         1       0        1             1     1        4   \n",
              "1997  3057     0         1       1        1             1     0        8   \n",
              "1998   869     0         0       1        1             1     1        5   \n",
              "1999  3919     1         1       1        1             1     1        6   \n",
              "\n",
              "      price_range  \n",
              "0               1  \n",
              "1               2  \n",
              "2               2  \n",
              "3               2  \n",
              "4               1  \n",
              "...           ...  \n",
              "1995            0  \n",
              "1996            2  \n",
              "1997            3  \n",
              "1998            0  \n",
              "1999            3  \n",
              "\n",
              "[2000 rows x 9 columns]"
            ],
            "text/html": [
              "\n",
              "  <div id=\"df-350adb24-67d5-41a8-8cb2-17fee738f10d\">\n",
              "    <div class=\"colab-df-container\">\n",
              "      <div>\n",
              "<style scoped>\n",
              "    .dataframe tbody tr th:only-of-type {\n",
              "        vertical-align: middle;\n",
              "    }\n",
              "\n",
              "    .dataframe tbody tr th {\n",
              "        vertical-align: top;\n",
              "    }\n",
              "\n",
              "    .dataframe thead th {\n",
              "        text-align: right;\n",
              "    }\n",
              "</style>\n",
              "<table border=\"1\" class=\"dataframe\">\n",
              "  <thead>\n",
              "    <tr style=\"text-align: right;\">\n",
              "      <th></th>\n",
              "      <th>ram</th>\n",
              "      <th>blue</th>\n",
              "      <th>dual_sim</th>\n",
              "      <th>four_g</th>\n",
              "      <th>three_g</th>\n",
              "      <th>touch_screen</th>\n",
              "      <th>wifi</th>\n",
              "      <th>n_cores</th>\n",
              "      <th>price_range</th>\n",
              "    </tr>\n",
              "  </thead>\n",
              "  <tbody>\n",
              "    <tr>\n",
              "      <th>0</th>\n",
              "      <td>2549</td>\n",
              "      <td>0</td>\n",
              "      <td>0</td>\n",
              "      <td>0</td>\n",
              "      <td>0</td>\n",
              "      <td>0</td>\n",
              "      <td>1</td>\n",
              "      <td>2</td>\n",
              "      <td>1</td>\n",
              "    </tr>\n",
              "    <tr>\n",
              "      <th>1</th>\n",
              "      <td>2631</td>\n",
              "      <td>1</td>\n",
              "      <td>1</td>\n",
              "      <td>1</td>\n",
              "      <td>1</td>\n",
              "      <td>1</td>\n",
              "      <td>0</td>\n",
              "      <td>3</td>\n",
              "      <td>2</td>\n",
              "    </tr>\n",
              "    <tr>\n",
              "      <th>2</th>\n",
              "      <td>2603</td>\n",
              "      <td>1</td>\n",
              "      <td>1</td>\n",
              "      <td>1</td>\n",
              "      <td>1</td>\n",
              "      <td>1</td>\n",
              "      <td>0</td>\n",
              "      <td>5</td>\n",
              "      <td>2</td>\n",
              "    </tr>\n",
              "    <tr>\n",
              "      <th>3</th>\n",
              "      <td>2769</td>\n",
              "      <td>1</td>\n",
              "      <td>0</td>\n",
              "      <td>0</td>\n",
              "      <td>1</td>\n",
              "      <td>0</td>\n",
              "      <td>0</td>\n",
              "      <td>6</td>\n",
              "      <td>2</td>\n",
              "    </tr>\n",
              "    <tr>\n",
              "      <th>4</th>\n",
              "      <td>1411</td>\n",
              "      <td>1</td>\n",
              "      <td>0</td>\n",
              "      <td>1</td>\n",
              "      <td>1</td>\n",
              "      <td>1</td>\n",
              "      <td>0</td>\n",
              "      <td>2</td>\n",
              "      <td>1</td>\n",
              "    </tr>\n",
              "    <tr>\n",
              "      <th>...</th>\n",
              "      <td>...</td>\n",
              "      <td>...</td>\n",
              "      <td>...</td>\n",
              "      <td>...</td>\n",
              "      <td>...</td>\n",
              "      <td>...</td>\n",
              "      <td>...</td>\n",
              "      <td>...</td>\n",
              "      <td>...</td>\n",
              "    </tr>\n",
              "    <tr>\n",
              "      <th>1995</th>\n",
              "      <td>668</td>\n",
              "      <td>1</td>\n",
              "      <td>1</td>\n",
              "      <td>1</td>\n",
              "      <td>1</td>\n",
              "      <td>1</td>\n",
              "      <td>0</td>\n",
              "      <td>6</td>\n",
              "      <td>0</td>\n",
              "    </tr>\n",
              "    <tr>\n",
              "      <th>1996</th>\n",
              "      <td>2032</td>\n",
              "      <td>1</td>\n",
              "      <td>1</td>\n",
              "      <td>0</td>\n",
              "      <td>1</td>\n",
              "      <td>1</td>\n",
              "      <td>1</td>\n",
              "      <td>4</td>\n",
              "      <td>2</td>\n",
              "    </tr>\n",
              "    <tr>\n",
              "      <th>1997</th>\n",
              "      <td>3057</td>\n",
              "      <td>0</td>\n",
              "      <td>1</td>\n",
              "      <td>1</td>\n",
              "      <td>1</td>\n",
              "      <td>1</td>\n",
              "      <td>0</td>\n",
              "      <td>8</td>\n",
              "      <td>3</td>\n",
              "    </tr>\n",
              "    <tr>\n",
              "      <th>1998</th>\n",
              "      <td>869</td>\n",
              "      <td>0</td>\n",
              "      <td>0</td>\n",
              "      <td>1</td>\n",
              "      <td>1</td>\n",
              "      <td>1</td>\n",
              "      <td>1</td>\n",
              "      <td>5</td>\n",
              "      <td>0</td>\n",
              "    </tr>\n",
              "    <tr>\n",
              "      <th>1999</th>\n",
              "      <td>3919</td>\n",
              "      <td>1</td>\n",
              "      <td>1</td>\n",
              "      <td>1</td>\n",
              "      <td>1</td>\n",
              "      <td>1</td>\n",
              "      <td>1</td>\n",
              "      <td>6</td>\n",
              "      <td>3</td>\n",
              "    </tr>\n",
              "  </tbody>\n",
              "</table>\n",
              "<p>2000 rows × 9 columns</p>\n",
              "</div>\n",
              "      <button class=\"colab-df-convert\" onclick=\"convertToInteractive('df-350adb24-67d5-41a8-8cb2-17fee738f10d')\"\n",
              "              title=\"Convert this dataframe to an interactive table.\"\n",
              "              style=\"display:none;\">\n",
              "        \n",
              "  <svg xmlns=\"http://www.w3.org/2000/svg\" height=\"24px\"viewBox=\"0 0 24 24\"\n",
              "       width=\"24px\">\n",
              "    <path d=\"M0 0h24v24H0V0z\" fill=\"none\"/>\n",
              "    <path d=\"M18.56 5.44l.94 2.06.94-2.06 2.06-.94-2.06-.94-.94-2.06-.94 2.06-2.06.94zm-11 1L8.5 8.5l.94-2.06 2.06-.94-2.06-.94L8.5 2.5l-.94 2.06-2.06.94zm10 10l.94 2.06.94-2.06 2.06-.94-2.06-.94-.94-2.06-.94 2.06-2.06.94z\"/><path d=\"M17.41 7.96l-1.37-1.37c-.4-.4-.92-.59-1.43-.59-.52 0-1.04.2-1.43.59L10.3 9.45l-7.72 7.72c-.78.78-.78 2.05 0 2.83L4 21.41c.39.39.9.59 1.41.59.51 0 1.02-.2 1.41-.59l7.78-7.78 2.81-2.81c.8-.78.8-2.07 0-2.86zM5.41 20L4 18.59l7.72-7.72 1.47 1.35L5.41 20z\"/>\n",
              "  </svg>\n",
              "      </button>\n",
              "      \n",
              "  <style>\n",
              "    .colab-df-container {\n",
              "      display:flex;\n",
              "      flex-wrap:wrap;\n",
              "      gap: 12px;\n",
              "    }\n",
              "\n",
              "    .colab-df-convert {\n",
              "      background-color: #E8F0FE;\n",
              "      border: none;\n",
              "      border-radius: 50%;\n",
              "      cursor: pointer;\n",
              "      display: none;\n",
              "      fill: #1967D2;\n",
              "      height: 32px;\n",
              "      padding: 0 0 0 0;\n",
              "      width: 32px;\n",
              "    }\n",
              "\n",
              "    .colab-df-convert:hover {\n",
              "      background-color: #E2EBFA;\n",
              "      box-shadow: 0px 1px 2px rgba(60, 64, 67, 0.3), 0px 1px 3px 1px rgba(60, 64, 67, 0.15);\n",
              "      fill: #174EA6;\n",
              "    }\n",
              "\n",
              "    [theme=dark] .colab-df-convert {\n",
              "      background-color: #3B4455;\n",
              "      fill: #D2E3FC;\n",
              "    }\n",
              "\n",
              "    [theme=dark] .colab-df-convert:hover {\n",
              "      background-color: #434B5C;\n",
              "      box-shadow: 0px 1px 3px 1px rgba(0, 0, 0, 0.15);\n",
              "      filter: drop-shadow(0px 1px 2px rgba(0, 0, 0, 0.3));\n",
              "      fill: #FFFFFF;\n",
              "    }\n",
              "  </style>\n",
              "\n",
              "      <script>\n",
              "        const buttonEl =\n",
              "          document.querySelector('#df-350adb24-67d5-41a8-8cb2-17fee738f10d button.colab-df-convert');\n",
              "        buttonEl.style.display =\n",
              "          google.colab.kernel.accessAllowed ? 'block' : 'none';\n",
              "\n",
              "        async function convertToInteractive(key) {\n",
              "          const element = document.querySelector('#df-350adb24-67d5-41a8-8cb2-17fee738f10d');\n",
              "          const dataTable =\n",
              "            await google.colab.kernel.invokeFunction('convertToInteractive',\n",
              "                                                     [key], {});\n",
              "          if (!dataTable) return;\n",
              "\n",
              "          const docLinkHtml = 'Like what you see? Visit the ' +\n",
              "            '<a target=\"_blank\" href=https://colab.research.google.com/notebooks/data_table.ipynb>data table notebook</a>'\n",
              "            + ' to learn more about interactive tables.';\n",
              "          element.innerHTML = '';\n",
              "          dataTable['output_type'] = 'display_data';\n",
              "          await google.colab.output.renderOutput(dataTable, element);\n",
              "          const docLink = document.createElement('div');\n",
              "          docLink.innerHTML = docLinkHtml;\n",
              "          element.appendChild(docLink);\n",
              "        }\n",
              "      </script>\n",
              "    </div>\n",
              "  </div>\n",
              "  "
            ]
          },
          "metadata": {},
          "execution_count": 6
        }
      ]
    },
    {
      "cell_type": "markdown",
      "source": [
        "**2. TAHAP PRAPROSES**"
      ],
      "metadata": {
        "id": "5qcfPzEuhi6Y"
      }
    },
    {
      "cell_type": "markdown",
      "source": [
        "Memeriksa Missing Value"
      ],
      "metadata": {
        "id": "dy5qpv80h7tJ"
      }
    },
    {
      "cell_type": "code",
      "source": [
        "df.describe(include=\"all\")"
      ],
      "metadata": {
        "colab": {
          "base_uri": "https://localhost:8080/",
          "height": 300
        },
        "id": "W1WkiDvvZ6TL",
        "outputId": "ade88f2b-fed4-4688-8287-0388d4e028ca"
      },
      "execution_count": null,
      "outputs": [
        {
          "output_type": "execute_result",
          "data": {
            "text/plain": [
              "               ram       blue     dual_sim       four_g      three_g  \\\n",
              "count  2000.000000  2000.0000  2000.000000  2000.000000  2000.000000   \n",
              "mean   2124.213000     0.4950     0.509500     0.521500     0.761500   \n",
              "std    1084.732044     0.5001     0.500035     0.499662     0.426273   \n",
              "min     256.000000     0.0000     0.000000     0.000000     0.000000   \n",
              "25%    1207.500000     0.0000     0.000000     0.000000     1.000000   \n",
              "50%    2146.500000     0.0000     1.000000     1.000000     1.000000   \n",
              "75%    3064.500000     1.0000     1.000000     1.000000     1.000000   \n",
              "max    3998.000000     1.0000     1.000000     1.000000     1.000000   \n",
              "\n",
              "       touch_screen         wifi      n_cores  price_range  \n",
              "count   2000.000000  2000.000000  2000.000000  2000.000000  \n",
              "mean       0.503000     0.507000     4.520500     1.500000  \n",
              "std        0.500116     0.500076     2.287837     1.118314  \n",
              "min        0.000000     0.000000     1.000000     0.000000  \n",
              "25%        0.000000     0.000000     3.000000     0.750000  \n",
              "50%        1.000000     1.000000     4.000000     1.500000  \n",
              "75%        1.000000     1.000000     7.000000     2.250000  \n",
              "max        1.000000     1.000000     8.000000     3.000000  "
            ],
            "text/html": [
              "\n",
              "  <div id=\"df-44028336-e3da-4f8b-9b07-270ac37dc1db\">\n",
              "    <div class=\"colab-df-container\">\n",
              "      <div>\n",
              "<style scoped>\n",
              "    .dataframe tbody tr th:only-of-type {\n",
              "        vertical-align: middle;\n",
              "    }\n",
              "\n",
              "    .dataframe tbody tr th {\n",
              "        vertical-align: top;\n",
              "    }\n",
              "\n",
              "    .dataframe thead th {\n",
              "        text-align: right;\n",
              "    }\n",
              "</style>\n",
              "<table border=\"1\" class=\"dataframe\">\n",
              "  <thead>\n",
              "    <tr style=\"text-align: right;\">\n",
              "      <th></th>\n",
              "      <th>ram</th>\n",
              "      <th>blue</th>\n",
              "      <th>dual_sim</th>\n",
              "      <th>four_g</th>\n",
              "      <th>three_g</th>\n",
              "      <th>touch_screen</th>\n",
              "      <th>wifi</th>\n",
              "      <th>n_cores</th>\n",
              "      <th>price_range</th>\n",
              "    </tr>\n",
              "  </thead>\n",
              "  <tbody>\n",
              "    <tr>\n",
              "      <th>count</th>\n",
              "      <td>2000.000000</td>\n",
              "      <td>2000.0000</td>\n",
              "      <td>2000.000000</td>\n",
              "      <td>2000.000000</td>\n",
              "      <td>2000.000000</td>\n",
              "      <td>2000.000000</td>\n",
              "      <td>2000.000000</td>\n",
              "      <td>2000.000000</td>\n",
              "      <td>2000.000000</td>\n",
              "    </tr>\n",
              "    <tr>\n",
              "      <th>mean</th>\n",
              "      <td>2124.213000</td>\n",
              "      <td>0.4950</td>\n",
              "      <td>0.509500</td>\n",
              "      <td>0.521500</td>\n",
              "      <td>0.761500</td>\n",
              "      <td>0.503000</td>\n",
              "      <td>0.507000</td>\n",
              "      <td>4.520500</td>\n",
              "      <td>1.500000</td>\n",
              "    </tr>\n",
              "    <tr>\n",
              "      <th>std</th>\n",
              "      <td>1084.732044</td>\n",
              "      <td>0.5001</td>\n",
              "      <td>0.500035</td>\n",
              "      <td>0.499662</td>\n",
              "      <td>0.426273</td>\n",
              "      <td>0.500116</td>\n",
              "      <td>0.500076</td>\n",
              "      <td>2.287837</td>\n",
              "      <td>1.118314</td>\n",
              "    </tr>\n",
              "    <tr>\n",
              "      <th>min</th>\n",
              "      <td>256.000000</td>\n",
              "      <td>0.0000</td>\n",
              "      <td>0.000000</td>\n",
              "      <td>0.000000</td>\n",
              "      <td>0.000000</td>\n",
              "      <td>0.000000</td>\n",
              "      <td>0.000000</td>\n",
              "      <td>1.000000</td>\n",
              "      <td>0.000000</td>\n",
              "    </tr>\n",
              "    <tr>\n",
              "      <th>25%</th>\n",
              "      <td>1207.500000</td>\n",
              "      <td>0.0000</td>\n",
              "      <td>0.000000</td>\n",
              "      <td>0.000000</td>\n",
              "      <td>1.000000</td>\n",
              "      <td>0.000000</td>\n",
              "      <td>0.000000</td>\n",
              "      <td>3.000000</td>\n",
              "      <td>0.750000</td>\n",
              "    </tr>\n",
              "    <tr>\n",
              "      <th>50%</th>\n",
              "      <td>2146.500000</td>\n",
              "      <td>0.0000</td>\n",
              "      <td>1.000000</td>\n",
              "      <td>1.000000</td>\n",
              "      <td>1.000000</td>\n",
              "      <td>1.000000</td>\n",
              "      <td>1.000000</td>\n",
              "      <td>4.000000</td>\n",
              "      <td>1.500000</td>\n",
              "    </tr>\n",
              "    <tr>\n",
              "      <th>75%</th>\n",
              "      <td>3064.500000</td>\n",
              "      <td>1.0000</td>\n",
              "      <td>1.000000</td>\n",
              "      <td>1.000000</td>\n",
              "      <td>1.000000</td>\n",
              "      <td>1.000000</td>\n",
              "      <td>1.000000</td>\n",
              "      <td>7.000000</td>\n",
              "      <td>2.250000</td>\n",
              "    </tr>\n",
              "    <tr>\n",
              "      <th>max</th>\n",
              "      <td>3998.000000</td>\n",
              "      <td>1.0000</td>\n",
              "      <td>1.000000</td>\n",
              "      <td>1.000000</td>\n",
              "      <td>1.000000</td>\n",
              "      <td>1.000000</td>\n",
              "      <td>1.000000</td>\n",
              "      <td>8.000000</td>\n",
              "      <td>3.000000</td>\n",
              "    </tr>\n",
              "  </tbody>\n",
              "</table>\n",
              "</div>\n",
              "      <button class=\"colab-df-convert\" onclick=\"convertToInteractive('df-44028336-e3da-4f8b-9b07-270ac37dc1db')\"\n",
              "              title=\"Convert this dataframe to an interactive table.\"\n",
              "              style=\"display:none;\">\n",
              "        \n",
              "  <svg xmlns=\"http://www.w3.org/2000/svg\" height=\"24px\"viewBox=\"0 0 24 24\"\n",
              "       width=\"24px\">\n",
              "    <path d=\"M0 0h24v24H0V0z\" fill=\"none\"/>\n",
              "    <path d=\"M18.56 5.44l.94 2.06.94-2.06 2.06-.94-2.06-.94-.94-2.06-.94 2.06-2.06.94zm-11 1L8.5 8.5l.94-2.06 2.06-.94-2.06-.94L8.5 2.5l-.94 2.06-2.06.94zm10 10l.94 2.06.94-2.06 2.06-.94-2.06-.94-.94-2.06-.94 2.06-2.06.94z\"/><path d=\"M17.41 7.96l-1.37-1.37c-.4-.4-.92-.59-1.43-.59-.52 0-1.04.2-1.43.59L10.3 9.45l-7.72 7.72c-.78.78-.78 2.05 0 2.83L4 21.41c.39.39.9.59 1.41.59.51 0 1.02-.2 1.41-.59l7.78-7.78 2.81-2.81c.8-.78.8-2.07 0-2.86zM5.41 20L4 18.59l7.72-7.72 1.47 1.35L5.41 20z\"/>\n",
              "  </svg>\n",
              "      </button>\n",
              "      \n",
              "  <style>\n",
              "    .colab-df-container {\n",
              "      display:flex;\n",
              "      flex-wrap:wrap;\n",
              "      gap: 12px;\n",
              "    }\n",
              "\n",
              "    .colab-df-convert {\n",
              "      background-color: #E8F0FE;\n",
              "      border: none;\n",
              "      border-radius: 50%;\n",
              "      cursor: pointer;\n",
              "      display: none;\n",
              "      fill: #1967D2;\n",
              "      height: 32px;\n",
              "      padding: 0 0 0 0;\n",
              "      width: 32px;\n",
              "    }\n",
              "\n",
              "    .colab-df-convert:hover {\n",
              "      background-color: #E2EBFA;\n",
              "      box-shadow: 0px 1px 2px rgba(60, 64, 67, 0.3), 0px 1px 3px 1px rgba(60, 64, 67, 0.15);\n",
              "      fill: #174EA6;\n",
              "    }\n",
              "\n",
              "    [theme=dark] .colab-df-convert {\n",
              "      background-color: #3B4455;\n",
              "      fill: #D2E3FC;\n",
              "    }\n",
              "\n",
              "    [theme=dark] .colab-df-convert:hover {\n",
              "      background-color: #434B5C;\n",
              "      box-shadow: 0px 1px 3px 1px rgba(0, 0, 0, 0.15);\n",
              "      filter: drop-shadow(0px 1px 2px rgba(0, 0, 0, 0.3));\n",
              "      fill: #FFFFFF;\n",
              "    }\n",
              "  </style>\n",
              "\n",
              "      <script>\n",
              "        const buttonEl =\n",
              "          document.querySelector('#df-44028336-e3da-4f8b-9b07-270ac37dc1db button.colab-df-convert');\n",
              "        buttonEl.style.display =\n",
              "          google.colab.kernel.accessAllowed ? 'block' : 'none';\n",
              "\n",
              "        async function convertToInteractive(key) {\n",
              "          const element = document.querySelector('#df-44028336-e3da-4f8b-9b07-270ac37dc1db');\n",
              "          const dataTable =\n",
              "            await google.colab.kernel.invokeFunction('convertToInteractive',\n",
              "                                                     [key], {});\n",
              "          if (!dataTable) return;\n",
              "\n",
              "          const docLinkHtml = 'Like what you see? Visit the ' +\n",
              "            '<a target=\"_blank\" href=https://colab.research.google.com/notebooks/data_table.ipynb>data table notebook</a>'\n",
              "            + ' to learn more about interactive tables.';\n",
              "          element.innerHTML = '';\n",
              "          dataTable['output_type'] = 'display_data';\n",
              "          await google.colab.output.renderOutput(dataTable, element);\n",
              "          const docLink = document.createElement('div');\n",
              "          docLink.innerHTML = docLinkHtml;\n",
              "          element.appendChild(docLink);\n",
              "        }\n",
              "      </script>\n",
              "    </div>\n",
              "  </div>\n",
              "  "
            ]
          },
          "metadata": {},
          "execution_count": 7
        }
      ]
    },
    {
      "cell_type": "code",
      "source": [
        "df.isnull().sum()"
      ],
      "metadata": {
        "colab": {
          "base_uri": "https://localhost:8080/"
        },
        "id": "WzRtF5RQaKX7",
        "outputId": "280d7584-1345-4146-9345-5d7c2b8cc5f6"
      },
      "execution_count": null,
      "outputs": [
        {
          "output_type": "execute_result",
          "data": {
            "text/plain": [
              "ram             0\n",
              "blue            0\n",
              "dual_sim        0\n",
              "four_g          0\n",
              "three_g         0\n",
              "touch_screen    0\n",
              "wifi            0\n",
              "n_cores         0\n",
              "price_range     0\n",
              "dtype: int64"
            ]
          },
          "metadata": {},
          "execution_count": 8
        }
      ]
    },
    {
      "cell_type": "markdown",
      "source": [
        "**VISUALISASI**"
      ],
      "metadata": {
        "id": "7WUctMJBKSAh"
      }
    },
    {
      "cell_type": "code",
      "source": [
        "import seaborn as sns\n",
        "plt.figure(figsize=(10,8))\n",
        "sns.heatmap(df.corr(), cmap=\"RdBu\",annot=True, fmt=\".1f\")\n",
        "plt.title(\"Correlations Between Variables\", size=15)\n",
        "plt.show();"
      ],
      "metadata": {
        "colab": {
          "base_uri": "https://localhost:8080/",
          "height": 557
        },
        "id": "yB2a5gXCIYjk",
        "outputId": "736731bb-f6ff-4dce-a5bf-ebfd05fc6739"
      },
      "execution_count": null,
      "outputs": [
        {
          "output_type": "display_data",
          "data": {
            "text/plain": [
              "<Figure size 720x576 with 2 Axes>"
            ],
            "image/png": "[encoded data removed]"
          },
          "metadata": {
            "needs_background": "light"
          }
        }
      ]
    },
    {
      "cell_type": "code",
      "source": [
        "sns.pairplot(df[[\"ram\", \"price_range\"]]);"
      ],
      "metadata": {
        "colab": {
          "base_uri": "https://localhost:8080/",
          "height": 374
        },
        "id": "shcQBQ8lKX6a",
        "outputId": "ded57d5c-9d3d-49ef-e994-6d54a0b4dc58"
      },
      "execution_count": null,
      "outputs": [
        {
          "output_type": "display_data",
          "data": {
            "text/plain": [
              "<Figure size 360x360 with 6 Axes>"
            ],
            "image/png": "[encoded data removed]"
          },
          "metadata": {
            "needs_background": "light"
          }
        }
      ]
    },
    {
      "cell_type": "markdown",
      "source": [
        "**3. MEMBAGI DATA Train (80%) dan Test (20%)**"
      ],
      "metadata": {
        "id": "CcPzKF-omDKz"
      }
    },
    {
      "cell_type": "markdown",
      "source": [
        "Memisahkan Data fitur X dan Data prediksi Y\n",
        "\n",
        "\n"
      ],
      "metadata": {
        "id": "7YXi0s43mQbL"
      }
    },
    {
      "cell_type": "code",
      "source": [
        "x = df.iloc[:,0:7].values\n",
        "y = df.iloc[:, -1].values"
      ],
      "metadata": {
        "id": "ihzrkPEJmSJZ"
      },
      "execution_count": null,
      "outputs": []
    },
    {
      "cell_type": "code",
      "source": [
        "print (x)"
      ],
      "metadata": {
        "colab": {
          "base_uri": "https://localhost:8080/"
        },
        "id": "YsrysIgqn3-h",
        "outputId": "fe62dabb-b001-40fd-b846-56f78f00b9e8"
      },
      "execution_count": null,
      "outputs": [
        {
          "output_type": "stream",
          "name": "stdout",
          "text": [
            "[[2549    0    0 ...    0    0    1]\n",
            " [2631    1    1 ...    1    1    0]\n",
            " [2603    1    1 ...    1    1    0]\n",
            " ...\n",
            " [3057    0    1 ...    1    1    0]\n",
            " [ 869    0    0 ...    1    1    1]\n",
            " [3919    1    1 ...    1    1    1]]\n"
          ]
        }
      ]
    },
    {
      "cell_type": "code",
      "source": [
        "print (y)"
      ],
      "metadata": {
        "colab": {
          "base_uri": "https://localhost:8080/"
        },
        "id": "vKIAhUAdn50U",
        "outputId": "ffaa48e4-9feb-4573-acb0-c3e48bc645e4"
      },
      "execution_count": null,
      "outputs": [
        {
          "output_type": "stream",
          "name": "stdout",
          "text": [
            "[1 2 2 ... 3 0 3]\n"
          ]
        }
      ]
    },
    {
      "cell_type": "code",
      "source": [
        "#Membagi data train dan test menggunakan sklearn\n",
        "from sklearn.model_selection import train_test_split\n",
        "x_train, x_test, y_train, y_test = train_test_split(x, y, test_size = 0.25, random_state = 0)"
      ],
      "metadata": {
        "id": "wb7n-Zwdn-V5"
      },
      "execution_count": null,
      "outputs": []
    },
    {
      "cell_type": "code",
      "source": [
        "#melihat jumlah data train\n",
        "x_train.shape"
      ],
      "metadata": {
        "colab": {
          "base_uri": "https://localhost:8080/"
        },
        "id": "0iCmaRQnoNfa",
        "outputId": "68451148-5fa1-49d3-caa3-b9ef160c9b82"
      },
      "execution_count": null,
      "outputs": [
        {
          "output_type": "execute_result",
          "data": {
            "text/plain": [
              "(1500, 7)"
            ]
          },
          "metadata": {},
          "execution_count": 15
        }
      ]
    },
    {
      "cell_type": "code",
      "source": [
        "#melihat jumlah data test\n",
        "x_test.shape"
      ],
      "metadata": {
        "colab": {
          "base_uri": "https://localhost:8080/"
        },
        "id": "iN66F9GkoP4S",
        "outputId": "eadcc9f6-2eff-4af3-9f15-8380fb6993b4"
      },
      "execution_count": null,
      "outputs": [
        {
          "output_type": "execute_result",
          "data": {
            "text/plain": [
              "(500, 7)"
            ]
          },
          "metadata": {},
          "execution_count": 16
        }
      ]
    },
    {
      "cell_type": "markdown",
      "source": [
        "*"
      ],
      "metadata": {
        "id": "_RAvAjbeygwi"
      }
    },
    {
      "cell_type": "markdown",
      "source": [
        "**STANDARISASI DATA**"
      ],
      "metadata": {
        "id": "q_Qhga3qLdsf"
      }
    },
    {
      "cell_type": "code",
      "source": [
        "label = LabelEncoder()\n",
        "y_train =  label.fit_transform(y_train)\n",
        "y_test = label.transform(y_test)"
      ],
      "metadata": {
        "id": "ylQKfgvhLdDY"
      },
      "execution_count": null,
      "outputs": []
    },
    {
      "cell_type": "code",
      "source": [
        "sc = StandardScaler()\n",
        "x_train = sc.fit_transform (x_train)\n",
        "x_test = sc.transform(x_test)"
      ],
      "metadata": {
        "id": "oA1tju0xoS7Z"
      },
      "execution_count": null,
      "outputs": []
    },
    {
      "cell_type": "markdown",
      "source": [
        "**4. MEMBANGUN MODEL DENGAN ALGORTIMA**\n",
        "\n",
        "**5. MENAMPILKAN NILAI AKURASI, PRECISION, RECALL, DAN F1 SCORE**"
      ],
      "metadata": {
        "id": "zWJN-YybokeT"
      }
    },
    {
      "cell_type": "markdown",
      "source": [
        "Menggunakan Regresi"
      ],
      "metadata": {
        "id": "ScBflTzIpMkh"
      }
    },
    {
      "cell_type": "code",
      "source": [
        "from sklearn.linear_model import LogisticRegression\n",
        "clf_lm = LogisticRegression()\n",
        "clf_lm.fit(x_train, y_train)"
      ],
      "metadata": {
        "colab": {
          "base_uri": "https://localhost:8080/"
        },
        "id": "dbxyuN1IpL3x",
        "outputId": "07924bc2-9749-4044-b6ea-ea24809e98a0"
      },
      "execution_count": null,
      "outputs": [
        {
          "output_type": "execute_result",
          "data": {
            "text/plain": [
              "LogisticRegression()"
            ]
          },
          "metadata": {},
          "execution_count": 19
        }
      ]
    },
    {
      "cell_type": "code",
      "source": [
        "print(clf_lm.coef_)\n",
        "print(clf_lm.intercept_)"
      ],
      "metadata": {
        "colab": {
          "base_uri": "https://localhost:8080/"
        },
        "id": "UJmXcGQIs2Ja",
        "outputId": "d0950270-cf31-47fd-8f98-0cca8c652bc9"
      },
      "execution_count": null,
      "outputs": [
        {
          "output_type": "stream",
          "name": "stdout",
          "text": [
            "[[-5.87980761e+00 -2.33551975e-02  7.50173890e-02  4.40303464e-02\n",
            "  -1.14106836e-01  7.62248133e-04 -1.45591893e-02]\n",
            " [-1.67213389e+00 -2.22803636e-02  1.00412462e-01  3.72550393e-02\n",
            "  -6.84087102e-03  1.78766764e-02  2.13676690e-02]\n",
            " [ 1.88530844e+00 -1.86289098e-02 -2.77734697e-02 -1.36150844e-01\n",
            "   7.53010571e-02 -5.93769563e-02  8.88174542e-03]\n",
            " [ 5.66663306e+00  6.42644709e-02 -1.47656382e-01  5.48654584e-02\n",
            "   4.56466503e-02  4.07380318e-02 -1.56902251e-02]]\n",
            "[-1.77887952  1.77013505  1.64565053 -1.63690606]\n"
          ]
        }
      ]
    },
    {
      "cell_type": "code",
      "source": [
        "y_pred = clf_lm.predict(x_test)"
      ],
      "metadata": {
        "id": "EVWNEhk8q3mi"
      },
      "execution_count": null,
      "outputs": []
    },
    {
      "cell_type": "code",
      "source": [
        "print('Accuracy Score: {:.4f}'.format(accuracy_score(y_pred, y_test)))\n",
        "print(\"\\n\",classification_report(y_pred, y_test))"
      ],
      "metadata": {
        "colab": {
          "base_uri": "https://localhost:8080/"
        },
        "id": "D9DwQip9q-gS",
        "outputId": "0b2655e4-3c21-4b41-dd8f-6fb3e9db96ce"
      },
      "execution_count": null,
      "outputs": [
        {
          "output_type": "stream",
          "name": "stdout",
          "text": [
            "Accuracy Score: 0.7620\n",
            "\n",
            "               precision    recall  f1-score   support\n",
            "\n",
            "           0       0.84      0.86      0.85       121\n",
            "           1       0.66      0.63      0.65       115\n",
            "           2       0.63      0.69      0.66       115\n",
            "           3       0.89      0.84      0.86       149\n",
            "\n",
            "    accuracy                           0.76       500\n",
            "   macro avg       0.76      0.76      0.75       500\n",
            "weighted avg       0.77      0.76      0.76       500\n",
            "\n"
          ]
        }
      ]
    },
    {
      "cell_type": "markdown",
      "source": [
        "Menggunakan Algortima Decision Tree"
      ],
      "metadata": {
        "id": "SVrCfDsNPRDl"
      }
    },
    {
      "cell_type": "code",
      "source": [
        "from sklearn.tree import DecisionTreeClassifier\n",
        "clf_dc = DecisionTreeClassifier() \n",
        "clf_dc.fit(x_train, y_train) \n",
        "\n",
        "y_pred = clf_dc.predict(x_test)"
      ],
      "metadata": {
        "id": "P6re1wrZPVg0"
      },
      "execution_count": null,
      "outputs": []
    },
    {
      "cell_type": "markdown",
      "source": [
        "Menggunakan Algoritma SVM"
      ],
      "metadata": {
        "id": "u1S8UWgSos3C"
      }
    },
    {
      "cell_type": "code",
      "source": [
        "from sklearn.svm import SVC \n",
        "clf_svm = SVC() \n",
        "clf_svm.fit(x_train, y_train) \n",
        "\n",
        "y_pred = clf_svm.predict(x_test)"
      ],
      "metadata": {
        "id": "VU_GCR0UoiYz"
      },
      "execution_count": null,
      "outputs": []
    },
    {
      "cell_type": "code",
      "source": [
        "print('Accuracy Score: {:.4f}'.format(accuracy_score(y_test, y_pred)))\n",
        "print(\"\\n\",classification_report(y_pred, y_test))"
      ],
      "metadata": {
        "colab": {
          "base_uri": "https://localhost:8080/"
        },
        "id": "eDTr5cVtpEOa",
        "outputId": "ab243a04-9c90-4336-dc0d-725fc0e890f1"
      },
      "execution_count": null,
      "outputs": [
        {
          "output_type": "stream",
          "name": "stdout",
          "text": [
            "Accuracy Score: 0.7580\n",
            "\n",
            "               precision    recall  f1-score   support\n",
            "\n",
            "           0       0.85      0.86      0.85       122\n",
            "           1       0.67      0.62      0.65       119\n",
            "           2       0.61      0.68      0.64       112\n",
            "           3       0.88      0.84      0.86       147\n",
            "\n",
            "    accuracy                           0.76       500\n",
            "   macro avg       0.75      0.75      0.75       500\n",
            "weighted avg       0.76      0.76      0.76       500\n",
            "\n"
          ]
        }
      ]
    },
    {
      "cell_type": "markdown",
      "source": [
        "*SVM dengan Kernel Linear*"
      ],
      "metadata": {
        "id": "yPcdAWuyw2eo"
      }
    },
    {
      "cell_type": "code",
      "source": [
        "clf_svm = SVC(kernel='linear') \n",
        "clf_svm.fit(x_train, y_train) \n",
        "\n",
        "y_pred = clf_svm.predict(x_test)"
      ],
      "metadata": {
        "id": "QbjUpJlfwb7m"
      },
      "execution_count": null,
      "outputs": []
    },
    {
      "cell_type": "code",
      "source": [
        "print('Accuracy Score: {:.4f}'.format(accuracy_score(y_test, y_pred)))\n",
        "print(\"\\n\",classification_report(y_pred, y_test))"
      ],
      "metadata": {
        "colab": {
          "base_uri": "https://localhost:8080/"
        },
        "id": "qb5otJVXxVKp",
        "outputId": "308aa3ef-e633-4e81-cc22-4d190f90ce13"
      },
      "execution_count": null,
      "outputs": [
        {
          "output_type": "stream",
          "name": "stdout",
          "text": [
            "Accuracy Score: 0.7540\n",
            "\n",
            "               precision    recall  f1-score   support\n",
            "\n",
            "           0       0.83      0.86      0.84       120\n",
            "           1       0.66      0.62      0.64       118\n",
            "           2       0.62      0.67      0.65       116\n",
            "           3       0.87      0.84      0.86       146\n",
            "\n",
            "    accuracy                           0.75       500\n",
            "   macro avg       0.75      0.75      0.75       500\n",
            "weighted avg       0.76      0.75      0.75       500\n",
            "\n"
          ]
        }
      ]
    },
    {
      "cell_type": "markdown",
      "source": [
        "*SVM dengan Kernel rbf*"
      ],
      "metadata": {
        "id": "--c01Ej4xAbp"
      }
    },
    {
      "cell_type": "code",
      "source": [
        "clf_svm = SVC(kernel='rbf') \n",
        "clf_svm.fit(x_train, y_train) \n",
        "\n",
        "y_pred = clf_svm.predict(x_test)"
      ],
      "metadata": {
        "id": "JOyMTCdDxfPS"
      },
      "execution_count": null,
      "outputs": []
    },
    {
      "cell_type": "code",
      "source": [
        "print('Accuracy Score: {:.4f}'.format(accuracy_score(y_test, y_pred)))\n",
        "print(\"\\n\",classification_report(y_pred, y_test))"
      ],
      "metadata": {
        "colab": {
          "base_uri": "https://localhost:8080/"
        },
        "id": "sqW027AuxfPT",
        "outputId": "52eefba6-5237-40ad-c2db-14c55aab2ee3"
      },
      "execution_count": null,
      "outputs": [
        {
          "output_type": "stream",
          "name": "stdout",
          "text": [
            "Accuracy Score: 0.7580\n",
            "\n",
            "               precision    recall  f1-score   support\n",
            "\n",
            "           0       0.85      0.86      0.85       122\n",
            "           1       0.67      0.62      0.65       119\n",
            "           2       0.61      0.68      0.64       112\n",
            "           3       0.88      0.84      0.86       147\n",
            "\n",
            "    accuracy                           0.76       500\n",
            "   macro avg       0.75      0.75      0.75       500\n",
            "weighted avg       0.76      0.76      0.76       500\n",
            "\n"
          ]
        }
      ]
    },
    {
      "cell_type": "markdown",
      "source": [
        "*SVM dengan Kernel poly*"
      ],
      "metadata": {
        "id": "ggFcgskDxEfB"
      }
    },
    {
      "cell_type": "code",
      "source": [
        "clf_svm = SVC(kernel='poly') \n",
        "clf_svm.fit(x_train, y_train) \n",
        "\n",
        "y_pred = clf_svm.predict(x_test)"
      ],
      "metadata": {
        "id": "FjB_bSdkxgHe"
      },
      "execution_count": null,
      "outputs": []
    },
    {
      "cell_type": "code",
      "source": [
        "print('Accuracy Score: {:.4f}'.format(accuracy_score(y_test, y_pred)))\n",
        "print(\"\\n\",classification_report(y_pred, y_test))"
      ],
      "metadata": {
        "colab": {
          "base_uri": "https://localhost:8080/"
        },
        "id": "X0ATTY5oxgHf",
        "outputId": "c6878b9a-d880-4f3f-f0a5-6b446f39882e"
      },
      "execution_count": null,
      "outputs": [
        {
          "output_type": "stream",
          "name": "stdout",
          "text": [
            "Accuracy Score: 0.7480\n",
            "\n",
            "               precision    recall  f1-score   support\n",
            "\n",
            "           0       0.82      0.87      0.85       117\n",
            "           1       0.65      0.61      0.63       119\n",
            "           2       0.65      0.64      0.65       126\n",
            "           3       0.84      0.86      0.85       138\n",
            "\n",
            "    accuracy                           0.75       500\n",
            "   macro avg       0.74      0.75      0.74       500\n",
            "weighted avg       0.74      0.75      0.75       500\n",
            "\n"
          ]
        }
      ]
    },
    {
      "cell_type": "markdown",
      "source": [
        "*SVM dengan Kernel Sigmoid*"
      ],
      "metadata": {
        "id": "FmXGIuV_xHMv"
      }
    },
    {
      "cell_type": "code",
      "source": [
        "clf_svm = SVC(kernel='sigmoid') \n",
        "clf_svm.fit(x_train, y_train) \n",
        "\n",
        "y_pred = clf_svm.predict(x_test)"
      ],
      "metadata": {
        "id": "RGR6uM7axiV3"
      },
      "execution_count": null,
      "outputs": []
    },
    {
      "cell_type": "code",
      "source": [
        "print('Accuracy Score: {:.4f}'.format(accuracy_score(y_test, y_pred)))\n",
        "print(\"\\n\",classification_report(y_pred, y_test))"
      ],
      "metadata": {
        "colab": {
          "base_uri": "https://localhost:8080/"
        },
        "id": "CjgBfK06xiV4",
        "outputId": "809802a5-fa04-4022-b6f9-63ac2ec6e4a2"
      },
      "execution_count": null,
      "outputs": [
        {
          "output_type": "stream",
          "name": "stdout",
          "text": [
            "Accuracy Score: 0.6600\n",
            "\n",
            "               precision    recall  f1-score   support\n",
            "\n",
            "           0       0.81      0.79      0.80       126\n",
            "           1       0.58      0.49      0.53       131\n",
            "           2       0.46      0.54      0.49       106\n",
            "           3       0.77      0.80      0.78       137\n",
            "\n",
            "    accuracy                           0.66       500\n",
            "   macro avg       0.65      0.65      0.65       500\n",
            "weighted avg       0.66      0.66      0.66       500\n",
            "\n"
          ]
        }
      ]
    },
    {
      "cell_type": "markdown",
      "source": [
        "Menggunakan Algortima KNN"
      ],
      "metadata": {
        "id": "KqMdgHryozaq"
      }
    },
    {
      "cell_type": "markdown",
      "source": [
        "*KNN dengan Metric Minkowski*"
      ],
      "metadata": {
        "id": "tBQePuXAy8nQ"
      }
    },
    {
      "cell_type": "code",
      "source": [
        "from sklearn.neighbors import KNeighborsClassifier\n",
        "clf_knn = KNeighborsClassifier(n_neighbors = 5, metric = 'minkowski', p=2)\n",
        "clf_knn.fit(x_train, y_train)\n",
        "\n",
        "y_pred = clf_knn.predict(x_test)"
      ],
      "metadata": {
        "id": "32EWAouZodcC"
      },
      "execution_count": null,
      "outputs": []
    },
    {
      "cell_type": "code",
      "source": [
        "print('Accuracy Score: {:.4f}'.format(accuracy_score(y_test, y_pred)))\n",
        "print(\"\\n\",classification_report(y_pred, y_test))"
      ],
      "metadata": {
        "colab": {
          "base_uri": "https://localhost:8080/"
        },
        "id": "N7ztd2_xoyZR",
        "outputId": "1ca140d7-a5e0-4c82-b81e-c58554c521c2"
      },
      "execution_count": null,
      "outputs": [
        {
          "output_type": "stream",
          "name": "stdout",
          "text": [
            "Accuracy Score: 0.7020\n",
            "\n",
            "               precision    recall  f1-score   support\n",
            "\n",
            "           0       0.80      0.81      0.80       122\n",
            "           1       0.59      0.52      0.56       124\n",
            "           2       0.58      0.60      0.59       122\n",
            "           3       0.81      0.86      0.84       132\n",
            "\n",
            "    accuracy                           0.70       500\n",
            "   macro avg       0.70      0.70      0.70       500\n",
            "weighted avg       0.70      0.70      0.70       500\n",
            "\n"
          ]
        }
      ]
    },
    {
      "cell_type": "markdown",
      "source": [
        "*KNN dengan Metric Euclidean*"
      ],
      "metadata": {
        "id": "7G3yT_mkzPpv"
      }
    },
    {
      "cell_type": "code",
      "source": [
        "from sklearn.neighbors import KNeighborsClassifier\n",
        "clf_knn = KNeighborsClassifier(n_neighbors = 5, metric = 'euclidean', p=2)\n",
        "clf_knn.fit(x_train, y_train)\n",
        "\n",
        "y_pred = clf_knn.predict(x_test)"
      ],
      "metadata": {
        "id": "8jyxfjFEy7ix"
      },
      "execution_count": null,
      "outputs": []
    },
    {
      "cell_type": "code",
      "source": [
        "print('Accuracy Score: {:.4f}'.format(accuracy_score(y_test, y_pred)))\n",
        "print(\"\\n\",classification_report(y_pred, y_test))"
      ],
      "metadata": {
        "colab": {
          "base_uri": "https://localhost:8080/"
        },
        "outputId": "4691c2e1-1f24-4049-e82c-6907591531ad",
        "id": "L9clerZmy7ix"
      },
      "execution_count": null,
      "outputs": [
        {
          "output_type": "stream",
          "name": "stdout",
          "text": [
            "Accuracy Score: 0.7020\n",
            "\n",
            "               precision    recall  f1-score   support\n",
            "\n",
            "           0       0.80      0.81      0.80       122\n",
            "           1       0.59      0.52      0.56       124\n",
            "           2       0.58      0.60      0.59       122\n",
            "           3       0.81      0.86      0.84       132\n",
            "\n",
            "    accuracy                           0.70       500\n",
            "   macro avg       0.70      0.70      0.70       500\n",
            "weighted avg       0.70      0.70      0.70       500\n",
            "\n"
          ]
        }
      ]
    },
    {
      "cell_type": "markdown",
      "source": [
        "*KNN dengan Metric Manhattan*"
      ],
      "metadata": {
        "id": "QrP7DUjPzQb1"
      }
    },
    {
      "cell_type": "code",
      "source": [
        "from sklearn.neighbors import KNeighborsClassifier\n",
        "clf_knn = KNeighborsClassifier(n_neighbors = 5, metric = 'cityblock', p=2)\n",
        "clf_knn.fit(x_train, y_train)\n",
        "\n",
        "y_pred = clf_knn.predict(x_test)"
      ],
      "metadata": {
        "id": "oJj8HniGzuVf"
      },
      "execution_count": null,
      "outputs": []
    },
    {
      "cell_type": "code",
      "source": [
        "print('Accuracy Score: {:.4f}'.format(accuracy_score(y_test, y_pred)))\n",
        "print(\"\\n\",classification_report(y_pred, y_test))"
      ],
      "metadata": {
        "colab": {
          "base_uri": "https://localhost:8080/"
        },
        "outputId": "8e0d8023-3438-43be-8dd9-9a72a3a5f73c",
        "id": "kZ_9WESVzuVf"
      },
      "execution_count": null,
      "outputs": [
        {
          "output_type": "stream",
          "name": "stdout",
          "text": [
            "Accuracy Score: 0.7020\n",
            "\n",
            "               precision    recall  f1-score   support\n",
            "\n",
            "           0       0.80      0.81      0.80       122\n",
            "           1       0.59      0.52      0.56       124\n",
            "           2       0.58      0.60      0.59       122\n",
            "           3       0.81      0.86      0.84       132\n",
            "\n",
            "    accuracy                           0.70       500\n",
            "   macro avg       0.70      0.70      0.70       500\n",
            "weighted avg       0.70      0.70      0.70       500\n",
            "\n"
          ]
        }
      ]
    },
    {
      "cell_type": "markdown",
      "source": [
        "*KNN dengan Metric Chebyshev*"
      ],
      "metadata": {
        "id": "y-9yVxulzRFS"
      }
    },
    {
      "cell_type": "code",
      "source": [
        "from sklearn.neighbors import KNeighborsClassifier\n",
        "clf_knn = KNeighborsClassifier(n_neighbors = 5, metric = 'chebyshev', p=2)\n",
        "clf_knn.fit(x_train, y_train)\n",
        "\n",
        "y_pred = clf_knn.predict(x_test)"
      ],
      "metadata": {
        "id": "WCyR8SGCzu81"
      },
      "execution_count": null,
      "outputs": []
    },
    {
      "cell_type": "code",
      "source": [
        "print('Accuracy Score: {:.4f}'.format(accuracy_score(y_test, y_pred)))\n",
        "print(\"\\n\",classification_report(y_pred, y_test))"
      ],
      "metadata": {
        "colab": {
          "base_uri": "https://localhost:8080/"
        },
        "outputId": "debfaf17-47a8-4a71-fb2e-90895b7e9ee7",
        "id": "0GoeGIzCzu81"
      },
      "execution_count": null,
      "outputs": [
        {
          "output_type": "stream",
          "name": "stdout",
          "text": [
            "Accuracy Score: 0.7020\n",
            "\n",
            "               precision    recall  f1-score   support\n",
            "\n",
            "           0       0.80      0.81      0.80       122\n",
            "           1       0.59      0.52      0.56       124\n",
            "           2       0.58      0.60      0.59       122\n",
            "           3       0.81      0.86      0.84       132\n",
            "\n",
            "    accuracy                           0.70       500\n",
            "   macro avg       0.70      0.70      0.70       500\n",
            "weighted avg       0.70      0.70      0.70       500\n",
            "\n"
          ]
        }
      ]
    },
    {
      "cell_type": "markdown",
      "source": [
        "Menggunakan Algortima Random Forest"
      ],
      "metadata": {
        "id": "5_OEmGhBOn0C"
      }
    },
    {
      "cell_type": "code",
      "source": [
        "from sklearn.ensemble import RandomForestClassifier\n",
        "clf_rf = RandomForestClassifier()\n",
        "clf_rf.fit(x_train,y_train)\n",
        "\n",
        "y_pred = clf_rf.predict(x_test)"
      ],
      "metadata": {
        "id": "lhnoHJ6NOkkr"
      },
      "execution_count": null,
      "outputs": []
    },
    {
      "cell_type": "code",
      "source": [
        "print('Accuracy Score: {:.4f}'.format(accuracy_score(y_test, y_pred)))\n",
        "print(\"\\n\",classification_report(y_pred, y_test))"
      ],
      "metadata": {
        "colab": {
          "base_uri": "https://localhost:8080/"
        },
        "id": "UKL0h5itPD-4",
        "outputId": "d7d84558-ba9e-4bcb-fe1d-339b0b3626ab"
      },
      "execution_count": null,
      "outputs": [
        {
          "output_type": "stream",
          "name": "stdout",
          "text": [
            "Accuracy Score: 0.6840\n",
            "\n",
            "               precision    recall  f1-score   support\n",
            "\n",
            "           0       0.80      0.80      0.80       123\n",
            "           1       0.59      0.55      0.57       119\n",
            "           2       0.54      0.55      0.55       123\n",
            "           3       0.78      0.81      0.80       135\n",
            "\n",
            "    accuracy                           0.68       500\n",
            "   macro avg       0.68      0.68      0.68       500\n",
            "weighted avg       0.68      0.68      0.68       500\n",
            "\n"
          ]
        }
      ]
    },
    {
      "cell_type": "code",
      "source": [
        "models = [\n",
        "    clf_lm,\n",
        "    clf_dc,\n",
        "    clf_svm,\n",
        "    clf_knn,\n",
        "    clf_rf\n",
        "]\n",
        "\n",
        "results = []\n",
        "results = pd.DataFrame(columns=[\"Models\",\"Accuracy\"])\n",
        "\n",
        "for model in models:\n",
        "    Name = model.__class__.__name__\n",
        "    y_pred = model.predict(x_test)\n",
        "    Accuracy = accuracy_score(y_test,y_pred)\n",
        "    result = pd.DataFrame([[Name, Accuracy*100]], columns = [\"Models\",\"Accuracy\"])\n",
        "    results = results.append(result)"
      ],
      "metadata": {
        "id": "t6c4LAY7OP1l"
      },
      "execution_count": null,
      "outputs": []
    },
    {
      "cell_type": "code",
      "source": [
        "sns.barplot(x='Accuracy', y='Models', data=results, color = \"r\")\n",
        "plt.xlabel('Accuracy %')\n",
        "plt.title('Model Accuracy Score ');"
      ],
      "metadata": {
        "colab": {
          "base_uri": "https://localhost:8080/",
          "height": 295
        },
        "id": "XqlEcVEoOUq9",
        "outputId": "d7feb455-152a-4112-de3f-a21d16894955"
      },
      "execution_count": null,
      "outputs": [
        {
          "output_type": "display_data",
          "data": {
            "text/plain": [
              "<Figure size 432x288 with 1 Axes>"
            ],
            "image/png": "[encoded data removed]"
          },
          "metadata": {
            "needs_background": "light"
          }
        }
      ]
    }
  ]
}